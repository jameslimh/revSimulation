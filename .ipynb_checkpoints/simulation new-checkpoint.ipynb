{
 "cells": [
  {
   "cell_type": "code",
   "execution_count": 1,
   "metadata": {},
   "outputs": [],
   "source": [
    "import numpy as np\n",
    "import random as rd\n",
    "import pandas as pd\n",
    "import requests\n",
    "\n",
    "\n",
    "\n",
    "def generate_random_integers(_sum, n):\n",
    "    \"return n sized array sum of which = _sum\"  \n",
    "    mean = _sum / n\n",
    "    variance = int(0.5 * mean)\n",
    "\n",
    "    min_v = mean - variance\n",
    "    max_v = mean + variance\n",
    "    array = [min_v] * n\n",
    "\n",
    "    diff = _sum - min_v * n\n",
    "    while diff > 0:\n",
    "        a = np.random.randint(0, n - 1)\n",
    "        if array[a] >= max_v:\n",
    "            continue\n",
    "        array[a] += 1\n",
    "        diff -= 1\n",
    "    return np.array(array)\n",
    "\n",
    "def get_cut(c):\n",
    "    for x in cohort.keys():\n",
    "        query = {'opeid':x[0], 'cip':x[1],'credlev':x[2]}\n",
    "        response = requests.get(\"http://platform.paperplaneisa.com/getRate?\",params=query)\n",
    "        cohort.get(x).append(float(response.json().get('rate')))\n",
    "        \n",
    "def employ(currentStatus, prob_lose, prob_get,month):\n",
    "    if(currentStatus >0):\n",
    "        if(rd.random() > prob_lose):\n",
    "            return month+1, month+1\n",
    "        else:\n",
    "            return 0, month\n",
    "    else:\n",
    "        if(rd.random() < prob_get):\n",
    "            return month+1, month+1\n",
    "        else:\n",
    "            return 0, month\n",
    "\n",
    "        \n",
    "def growth(x,gr):\n",
    "    if(x==0): return 0\n",
    "    return gr**(int(x/12))"
   ]
  },
  {
   "cell_type": "code",
   "execution_count": 2,
   "metadata": {},
   "outputs": [
    {
     "name": "stdout",
     "output_type": "stream",
     "text": [
      "Wall time: 836 ms\n"
     ]
    }
   ],
   "source": [
    "%%time\n",
    "_sum = 75000              #amount disbursed (k)\n",
    "\n",
    "\n",
    "months_before_1st_payment = 18      #wait time until first payments\n",
    "\n",
    "#LF participation and unemployment parameters\n",
    "\n",
    "p_labor_participation = 0.94                       #prob of participation in labor force (LF)\n",
    "p_first_year_empl = 0.9                             #prob of empl;oyment straight after first year\n",
    "\n",
    "p_unempl = 0.04\n",
    "\n",
    "p_laid_off = 0.03                                   #Prob of getting laid off\n",
    "p_job_back = (1/p_unempl -1)*(p_laid_off)           #Prob of getting job back on a given month after getting laid off\n",
    "\n",
    "                                                    #Conditions: p_laid_off < p_unempl / (1-p_unempl)\n",
    "\n",
    "\n",
    "p_labor_part_first_year_empl = p_first_year_empl/p_labor_participation\n",
    "\n",
    "\n",
    "GR_filepath = r\"./growth_rates_12y.csv\"\n",
    "std_filepath = r\"./distribution_var_weighted_avg.csv\"\n",
    "inc_med_filepath = r\"./scorecard_FOS1517_clean.csv\"\n",
    "\n",
    "ContractLength = 60                         #contract length months\n",
    "#same for all\n",
    "ISA_floor = 25000                           #floor for ISA under which no revenue is taken.\n",
    "#same for all\n",
    "max_repayment_multiple = 3                  #amount to be paid max\n",
    "#same for all\n",
    "\n",
    "#--------------------------------------------------------------------------------------\n",
    "# add students here\n",
    "\n",
    "cohort = {}\n",
    "\n",
    "# update by {cip, major, cred}\n",
    "\n",
    "cohort.update({(2974,5202,5):[2200]})\n",
    "cohort.update({(2920,1107,3):[2800]})\n",
    "\n",
    "#--------------------------------------------------------------------------------------\n",
    "\n",
    "n = 0;\n",
    "\n",
    "for x in cohort.values():\n",
    "    n = n + x[0]\n",
    "\n",
    "get_cut(cohort)\n",
    "principal = generate_random_integers(_sum, n)*1000\n",
    "\n",
    "\n",
    "students = {}\n",
    "\n",
    "# students = [key: {principal, income share, income growth, init monthly income}]\n",
    "\n",
    "key = 0\n",
    "inc_GR_df = pd.read_csv(GR_filepath)\n",
    "inc_std_df = pd.read_csv(std_filepath)\n",
    "inc_med_df = pd.read_csv(inc_med_filepath)\n",
    "for x in cohort.keys():\n",
    "    avgGR = inc_GR_df.loc[(inc_GR_df['CIP_FIRST4']==x[1]) & (inc_GR_df['CREDLEV']==x[2]), 'AGR'].item() \n",
    "    std = inc_std_df.loc[(inc_std_df['CIP_FIRST4']==x[1]) & (inc_std_df['CREDLEV']==x[2]), 'WEIGHTED_AVG_STDDEV'].item()\n",
    "    med = inc_med_df.loc[(inc_med_df['Major/Program Code']==x[1]) & \\\n",
    "                             (inc_med_df['Degree Level']==x[2]) &\\\n",
    "                            (inc_med_df['6 Digit OPE ID']==x[0]), 'Median Earnings'].item()\n",
    "    for y in range(cohort.get(x)[0]):\n",
    "        students[key] = [principal[key],principal[key]*cohort.get(x)[1]/1000,avgGR, np.random.normal(loc = med, scale = std) / 12];\n",
    "        key = key + 1\n",
    "\n"
   ]
  },
  {
   "cell_type": "code",
   "execution_count": null,
   "metadata": {},
   "outputs": [],
   "source": [
    "%%time\n",
    "df = pd.DataFrame(students)\n",
    "df.to_csv('cohortdata_{}size_{}k.csv'.format(n,_sum),index=False)"
   ]
  },
  {
   "cell_type": "code",
   "execution_count": 3,
   "metadata": {},
   "outputs": [
    {
     "name": "stdout",
     "output_type": "stream",
     "text": [
      "Wall time: 2.99 ms\n"
     ]
    }
   ],
   "source": [
    "%%time\n",
    "number_not_in_LF = np.random.binomial(n, 1-p_labor_participation, size=None)\n",
    "students__not_in_LF = rd.sample(range(0, n), number_not_in_LF)\n",
    "\n",
    "# students not in LF gets put into different dict\n",
    "not_in_LF = {}\n",
    "for x in students__not_in_LF:\n",
    "    not_in_LF.update({x:students.pop(x)})\n",
    "\n",
    "# decides which students gets employed first year\n",
    "number_of_students_in_1st = np.random.binomial(n-number_not_in_LF, p_first_year_empl, size=None)\n",
    "students_in_1st = set(rd.sample(set(students.keys()), number_of_students_in_1st ))"
   ]
  },
  {
   "cell_type": "code",
   "execution_count": 4,
   "metadata": {},
   "outputs": [
    {
     "name": "stdout",
     "output_type": "stream",
     "text": [
      "Wall time: 648 ms\n"
     ]
    }
   ],
   "source": [
    "%%time\n",
    "income = np.zeros(shape=(n,102))\n",
    "\n",
    "# simulate income over time\n",
    "\n",
    "for x in range(0,n):\n",
    "    if x in students:\n",
    "        f = lambda a: (1+students.get(x)[2]) ** (np.floor(a/12)) * (a>0)\n",
    "        if x in students_in_1st:\n",
    "            income[x][0] = 1\n",
    "            month = 1\n",
    "            for i in range(1,102):\n",
    "                income[x][i],month = employ(income[x][i-1],p_laid_off,p_job_back,month)\n",
    "            \n",
    "        else:\n",
    "            month = 0\n",
    "            for i in range(12,102):\n",
    "                income[x][i],month = employ(income[x][i-1],p_laid_off,p_job_back,month)\n",
    "        income[x] = f(income[x]) * students.get(x)[3]\n",
    "\n",
    "          "
   ]
  },
  {
   "cell_type": "code",
   "execution_count": 5,
   "metadata": {},
   "outputs": [
    {
     "name": "stdout",
     "output_type": "stream",
     "text": [
      "Wall time: 729 ms\n"
     ]
    }
   ],
   "source": [
    "%%time\n",
    "# run this before calculating rev to save it\n",
    "\n",
    "df = pd.DataFrame(income)\n",
    "df.to_csv('income_{}size_{}k.csv'.format(n,_sum),index=False)"
   ]
  },
  {
   "cell_type": "code",
   "execution_count": 6,
   "metadata": {},
   "outputs": [
    {
     "name": "stdout",
     "output_type": "stream",
     "text": [
      "Wall time: 653 ms\n"
     ]
    }
   ],
   "source": [
    "%%time\n",
    "\n",
    "# make it 0, since no revenue if income < thres\n",
    "income_thres = income < ISA_floor/12\n",
    "income[income_thres] = 0\n",
    "\n",
    "principal = np.zeros(shape=(n,1))\n",
    "total_rev = np.zeros(shape=(n,1)) # amount paid back, not the actual revenue(paidback - principal)\n",
    "for x in range(0,n):\n",
    "    if x in students:\n",
    "        income[x] = income[x]*students.get(x)[1] #multiplied by income share = revenue\n",
    "        pr = students.get(x)[0]\n",
    "        principal[x][0] = pr\n",
    "        monthsPaid = 0\n",
    "        cumulative = 0\n",
    "        if x in students_in_1st:\n",
    "            for i in range(1,102):\n",
    "                if (monthsPaid == ContractLength):\n",
    "                    income[x][i:] = 0\n",
    "                    break\n",
    "                if (pr*max_repayment_multiple < cumulative + income[x][i]):\n",
    "                    income[x][i] = pr*max_repayment_multiple - cumulative\n",
    "                    cumulative = pr*max_repayment_multiple\n",
    "                    income[x][i+1:] = 0\n",
    "                    break\n",
    "                if(income[x][i]>0):\n",
    "                    monthsPaid+=1\n",
    "                    cumulative+=income[x][i]\n",
    "            \n",
    "        else:            \n",
    "            for i in range(12,102):\n",
    "                if (monthsPaid == ContractLength):\n",
    "                    income[x][i:] = 0\n",
    "                    break\n",
    "                if (pr*max_repayment_multiple < cumulative + income[x][i]):\n",
    "                    income[x][i] = pr*max_repayment_multiple - cumulative\n",
    "                    cumulative = pr*max_repayment_multiple\n",
    "                    income[x][i+1:] = 0\n",
    "                    break\n",
    "                if(income[x][i]>0):\n",
    "                    monthsPaid+=1\n",
    "                    cumulative+=income[x][i]\n",
    "        total_rev[x][0] = cumulative\n",
    "    else:\n",
    "        principal[x][0] = not_in_LF.get(x)[0]\n",
    "        \n",
    "income = np.hstack((principal,income))\n",
    "income = np.hstack((income, total_rev))"
   ]
  },
  {
   "cell_type": "code",
   "execution_count": 7,
   "metadata": {},
   "outputs": [
    {
     "name": "stdout",
     "output_type": "stream",
     "text": [
      "Wall time: 589 ms\n"
     ]
    }
   ],
   "source": [
    "%%time\n",
    "# run this to save amount paid back data\n",
    "\n",
    "df = pd.DataFrame(income)\n",
    "df.to_csv('amounts_paid_back_{}size_{}k.csv'.format(n,_sum),index=False)"
   ]
  }
 ],
 "metadata": {
  "kernelspec": {
   "display_name": "Python 3",
   "language": "python",
   "name": "python3"
  },
  "language_info": {
   "codemirror_mode": {
    "name": "ipython",
    "version": 3
   },
   "file_extension": ".py",
   "mimetype": "text/x-python",
   "name": "python",
   "nbconvert_exporter": "python",
   "pygments_lexer": "ipython3",
   "version": "3.8.5"
  }
 },
 "nbformat": 4,
 "nbformat_minor": 4
}
